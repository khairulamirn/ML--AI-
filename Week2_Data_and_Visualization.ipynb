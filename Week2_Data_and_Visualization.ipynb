{
 "cells": [
  {
   "cell_type": "code",
   "execution_count": null,
   "id": "9bae9f81",
   "metadata": {},
   "outputs": [],
   "source": [
    "# Week 2: Day 1 - NumPy (Numerical Python)\n",
    "\n",
    "#  Why use NumPy?\n",
    "#Faster than normal Python lists\n",
    "#Can handle large datasets like pressure, temp, or concentrations\n",
    "\n",
    "import numpy as np\n",
    "\n",
    "# Create array of temperatures\n",
    "temps = np.array([300, 320, 350, 370, 400])\n",
    "print(\"Kelvin temps:\", temps)\n",
    "\n",
    "# Convert to Celsius\n",
    "celsius = temps - 273.15\n",
    "print(\"In Celsius:\", celsius)\n",
    "\n",
    "# Simulate pressure using ideal gas law: P = nRT/V\n",
    "n = 1.0\n",
    "R = 0.0821\n",
    "V = 10\n",
    "pressures = (n * R * temps) / V\n",
    "print(\"Pressures:\", pressures)\n",
    "\n",
    "# Array stats\n",
    "print(\"Mean pressure:\", np.mean(pressures))\n",
    "print(\"Max temperature:\", np.max(temps))"
   ]
  },
  {
   "cell_type": "code",
   "execution_count": null,
   "id": "92ffbc0a",
   "metadata": {},
   "outputs": [],
   "source": [
    "# Mini Project 3: Batch Reactor Energy Monitoring System\n",
    "# Your Tasks:\n",
    "# Store a list/array of 10 temperature readings (in Kelvin)\n",
    "# Convert each temperature to Celsius\n",
    "# Use a function to calculate the reaction rate k for each temperature\n",
    "# Store all the k values in a NumPy array\n",
    "# Print a summary:\n",
    "# Mean rate\n",
    "# Max rate and corresponding temperature\n",
    "# Handle errors (e.g., negative temperatures or division by zero)\n",
    "\n",
    "import numpy as np\n",
    "import math as m "
   ]
  }
 ],
 "metadata": {
  "kernelspec": {
   "display_name": ".venv",
   "language": "python",
   "name": "python3"
  },
  "language_info": {
   "codemirror_mode": {
    "name": "ipython",
    "version": 3
   },
   "file_extension": ".py",
   "mimetype": "text/x-python",
   "name": "python",
   "nbconvert_exporter": "python",
   "pygments_lexer": "ipython3",
   "version": "3.11.9"
  }
 },
 "nbformat": 4,
 "nbformat_minor": 5
}
