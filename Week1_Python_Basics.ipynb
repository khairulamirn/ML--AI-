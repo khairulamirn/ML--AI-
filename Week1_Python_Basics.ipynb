{
 "cells": [
  {
   "cell_type": "code",
   "execution_count": 5,
   "id": "6c2608c6-a3f4-4ff7-a19e-4a594f9f6a39",
   "metadata": {},
   "outputs": [
    {
     "name": "stdout",
     "output_type": "stream",
     "text": [
      "Compound: Ammonia\n",
      "Temperature (K): 350\n",
      "Pressure (atm): 5\n",
      "Toxic? True\n"
     ]
    }
   ],
   "source": [
    "# Chemical example\n",
    "temperature = 350 # Kelvin\n",
    "pressure = 5 # atm \n",
    "compound_name = \"Ammonia\"\n",
    "is_toxic = True \n",
    "\n",
    "print(\"Compound:\", compound_name)\n",
    "print(\"Temperature (K):\", temperature)\n",
    "print(\"Pressure (atm):\", pressure)\n",
    "print(\"Toxic?\", is_toxic)"
   ]
  },
  {
   "cell_type": "code",
   "execution_count": 3,
   "id": "e4652199-1f39-49e3-b73f-c16377844f43",
   "metadata": {},
   "outputs": [
    {
     "name": "stdout",
     "output_type": "stream",
     "text": [
      "350\n",
      "400\n",
      "4\n",
      "500\n",
      "LFR\n",
      "17.03\n"
     ]
    }
   ],
   "source": [
    "# List of temperatures\n",
    "temps = [300, 320, 350, 400]\n",
    "print(temps[2]) # Get the third element\n",
    "print(temps[-1]) # Get the last element\n",
    "print(len(temps)) # Get the length of the list\n",
    "\n",
    "# edit tempts using print \n",
    "temps[3] = 500\n",
    "print(temps[3])\n",
    "\n",
    "# Tuple of fixed reactor types \n",
    "reactors = (\"PFR\", \"LFR\", \"CSTR\")\n",
    "print(reactors[1]) # Get the second element\n",
    "\n",
    "# Dictionary of compound properties \n",
    "ammonia = {\n",
    "    \"formula\": \"NH3\",\n",
    "    \"molar_mass\": 17.03,\n",
    "    \"boiling_point\": -33.34\n",
    "}\n",
    "print(ammonia[\"molar_mass\"])"
   ]
  },
  {
   "cell_type": "code",
   "execution_count": null,
   "id": "b97e3c25",
   "metadata": {},
   "outputs": [
    {
     "name": "stdout",
     "output_type": "stream",
     "text": [
      "300 is below the boiling point\n",
      "350 is below the boiling point\n",
      "400 is above the boiling point\n",
      "500 is above the boiling point\n"
     ]
    }
   ],
   "source": [
    "# Check if temperature are above boiling point \n",
    "boiling_point = 373 # Water\n",
    "temps = [300, 350, 400, 500]\n",
    "\n",
    "for t in temps:\n",
    "    if t > boiling_point:\n",
    "        print(t, \"is above the boiling point\")\n",
    "    else:\n",
    "        print(t, \"is below the boiling point\")"
   ]
  },
  {
   "cell_type": "code",
   "execution_count": 3,
   "id": "cc316b07",
   "metadata": {},
   "outputs": [
    {
     "name": "stdout",
     "output_type": "stream",
     "text": [
      "Pressure: 2.874 atm\n"
     ]
    }
   ],
   "source": [
    "def calculate_pressure(n, R, T, V):\n",
    "    return (n * R * T) / V\n",
    "\n",
    "# Ideal gas law PV = nRT\n",
    "P = calculate_pressure(n=1.0, R=0.0821, T=350, V=10)\n",
    "# Print the calculated pressure at 3 decimal places\n",
    "print(\"Pressure:\", round(P, 3), \"atm\")"
   ]
  }
 ],
 "metadata": {
  "kernelspec": {
   "display_name": ".venv",
   "language": "python",
   "name": "python3"
  },
  "language_info": {
   "codemirror_mode": {
    "name": "ipython",
    "version": 3
   },
   "file_extension": ".py",
   "mimetype": "text/x-python",
   "name": "python",
   "nbconvert_exporter": "python",
   "pygments_lexer": "ipython3",
   "version": "3.11.9"
  }
 },
 "nbformat": 4,
 "nbformat_minor": 5
}
