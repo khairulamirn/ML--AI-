{
 "cells": [
  {
   "cell_type": "code",
   "execution_count": null,
   "id": "6c2608c6-a3f4-4ff7-a19e-4a594f9f6a39",
   "metadata": {},
   "outputs": [
    {
     "name": "stdout",
     "output_type": "stream",
     "text": [
      "Compound: Ammonia\n",
      "Temperature (K): 350\n",
      "Pressure (atm): 5\n",
      "Toxic? True\n"
     ]
    }
   ],
   "source": [
    "# Lesson 1: Python Variables & Data Types\n",
    "# Chemical example\n",
    "temperature = 350 # Kelvin\n",
    "pressure = 5 # atm \n",
    "compound_name = \"Ammonia\"\n",
    "is_toxic = True \n",
    "\n",
    "print(\"Compound:\", compound_name)\n",
    "print(\"Temperature (K):\", temperature)\n",
    "print(\"Pressure (atm):\", pressure)\n",
    "print(\"Toxic?\", is_toxic)"
   ]
  },
  {
   "cell_type": "code",
   "execution_count": null,
   "id": "e4652199-1f39-49e3-b73f-c16377844f43",
   "metadata": {},
   "outputs": [
    {
     "name": "stdout",
     "output_type": "stream",
     "text": [
      "350\n",
      "400\n",
      "4\n",
      "500\n",
      "LFR\n",
      "17.03\n"
     ]
    }
   ],
   "source": [
    "# Lesson 2: Lists, Tuples, and Dictionaries\n",
    "# List of temperatures\n",
    "temps = [300, 320, 350, 400]\n",
    "print(temps[2]) # Get the third element\n",
    "print(temps[-1]) # Get the last element\n",
    "print(len(temps)) # Get the length of the list\n",
    "\n",
    "# edit tempts using print \n",
    "temps[3] = 500\n",
    "print(temps[3])\n",
    "\n",
    "# Tuple of fixed reactor types \n",
    "reactors = (\"PFR\", \"LFR\", \"CSTR\")\n",
    "print(reactors[1]) # Get the second element\n",
    "\n",
    "# Dictionary of compound properties \n",
    "ammonia = {\n",
    "    \"formula\": \"NH3\",\n",
    "    \"molar_mass\": 17.03,\n",
    "    \"boiling_point\": -33.34\n",
    "}\n",
    "print(ammonia[\"molar_mass\"])"
   ]
  },
  {
   "cell_type": "code",
   "execution_count": null,
   "id": "b97e3c25",
   "metadata": {},
   "outputs": [
    {
     "name": "stdout",
     "output_type": "stream",
     "text": [
      "300 is below the boiling point\n",
      "350 is below the boiling point\n",
      "400 is above the boiling point\n",
      "500 is above the boiling point\n"
     ]
    }
   ],
   "source": [
    "# Lesson 3: Loops & Conditionals\n",
    "# Check if temperature are above boiling point \n",
    "boiling_point = 373 # Water\n",
    "temps = [300, 350, 400, 500]\n",
    "\n",
    "for t in temps:\n",
    "    if t > boiling_point:\n",
    "        print(t, \"is above the boiling point\")\n",
    "    else:\n",
    "        print(t, \"is below the boiling point\")"
   ]
  },
  {
   "cell_type": "code",
   "execution_count": null,
   "id": "cc316b07",
   "metadata": {},
   "outputs": [
    {
     "name": "stdout",
     "output_type": "stream",
     "text": [
      "Pressure: 2.463 atm\n"
     ]
    }
   ],
   "source": [
    "# Lesson 4: Functions\n",
    "def calculate_pressure(n, R, T, V):\n",
    "    return (n * R * T) / V\n",
    "\n",
    "# Ideal gas law PV = nRT\n",
    "P = calculate_pressure(n=1.0, R=0.0821, T=300, V=10)\n",
    "# Print the calculated pressure at 3 decimal places\n",
    "print(\"Pressure:\", round(P, 3), \"atm\")"
   ]
  },
  {
   "cell_type": "code",
   "execution_count": null,
   "id": "d5b57518",
   "metadata": {},
   "outputs": [
    {
     "name": "stdout",
     "output_type": "stream",
     "text": [
      "For n = 1.0 mol, T = 300.0 K, V = 10.0 L\n",
      "Pressure: 2.463 atm\n"
     ]
    }
   ],
   "source": [
    "# MINI PROJECT: Ideal Gas Law Calculator\n",
    "\n",
    "def main():\n",
    "    R = 0.0821 # Ideal gas constant in L·atm/(K·mol)\n",
    "    # Ask the user for values n , T , V\n",
    "    n = float(input(\"Enter the number of moles (n): \"))\n",
    "    T = float(input(\"Enter the temperature in Kelvin (T): \"))\n",
    "    V = float(input(\"Enter the volume in liters (V): \"))\n",
    "\n",
    "    if V == 0 or n == 0 or T == 0:\n",
    "        print(\"Error: n, T, and V must be greater than zero.\")\n",
    "        return\n",
    "\n",
    "    # Calculate pressure using the ideal gas law\n",
    "    def calculate_pressure(n, R, T, V):\n",
    "        return (n * R * T) / V\n",
    "\n",
    "    P = calculate_pressure(n, R, T, V)\n",
    "\n",
    "    # Print the calculated pressure at 3 decimal places\n",
    "    # print(\"For n = \", n, \"mol\" \", T =\", T, \"K\", \"V =\", V, \"L\")\n",
    "    # print(\"Pressure:\", round(P, 3), \"atm\")\n",
    "    print(f\"For n = {n} mol, T = {T} K, V = {V} L\")\n",
    "    print(f\"Pressure: {P:.3f} atm\")\n",
    "main()"
   ]
  },
  {
   "cell_type": "code",
   "execution_count": 20,
   "id": "98275cb7",
   "metadata": {},
   "outputs": [
    {
     "name": "stdout",
     "output_type": "stream",
     "text": [
      "The compound Ammonia has the formula nh3.\n",
      "Words: ['The', 'compound', 'Ammonia', 'has', 'the', 'formula', 'nh3.']\n",
      "AMMONIA\n"
     ]
    }
   ],
   "source": [
    "# Lesson 5: String manipulation \n",
    "\n",
    "compound = \"ammonia\"\n",
    "formula = \"NH3\"\n",
    "sentence = f\"The compound {compound.title()} has the formula {formula.swapcase()}.\"\n",
    "print(sentence)\n",
    "\n",
    "# Split by space\n",
    "words = sentence.split()\n",
    "print(\"Words:\", words)\n",
    "\n",
    "# Change case\n",
    "print(compound.upper())"
   ]
  },
  {
   "cell_type": "code",
   "execution_count": 26,
   "id": "ba9d34ed",
   "metadata": {},
   "outputs": [
    {
     "name": "stdout",
     "output_type": "stream",
     "text": [
      "Ammonia has the formula NH3\n",
      "Methane has the formula CH4\n",
      "Water has the formula H20\n"
     ]
    }
   ],
   "source": [
    "#  Lesson 6: Working with Files (Read/Write)\n",
    "\n",
    "# Read file\n",
    "with open(\"compounds.txt\", \"r\") as file:\n",
    "    lines = file.readlines()\n",
    "    for line in lines: \n",
    "        name, formula = line.strip().split(\",\")\n",
    "        print(f\"{name} has the formula {formula}\")\n",
    "\n",
    "# Write to file\n",
    "with open(\"output.txt\", \"w\") as file:\n",
    "    file.write(\"This is  a chemical report.\\n\")\n",
    "    file.write(\"Generated by Python.\\n\")"
   ]
  },
  {
   "cell_type": "code",
   "execution_count": 28,
   "id": "4391e952",
   "metadata": {},
   "outputs": [
    {
     "name": "stdout",
     "output_type": "stream",
     "text": [
      "Error: Volume cannot be zero.\n"
     ]
    }
   ],
   "source": [
    "# Lesson 7: Error Handlung (try/except)\n",
    "\n",
    "try: \n",
    "    V = float(input(\"Enter volume (L): \"))\n",
    "    if V == 0:\n",
    "        raise ValueError(\"Volume cannot be zero.\")\n",
    "    P = (1 * 0.0821 * 300) / V\n",
    "    print(\"Pressure:\", P, \"atm\")\n",
    "except ValueError as e:\n",
    "    print(\"Error:\", e)"
   ]
  },
  {
   "cell_type": "code",
   "execution_count": null,
   "id": "cb601de6",
   "metadata": {},
   "outputs": [
    {
     "name": "stdout",
     "output_type": "stream",
     "text": [
      "Natural log of 10: 2.303\n",
      "Square root of D: 0.004\n"
     ]
    }
   ],
   "source": [
    "# Lesson 8: Importing Modules or Libraries\n",
    "\n",
    "import math\n",
    "\n",
    "#Logarithmic calculation\n",
    "x = 10 \n",
    "print(\"Natural log of 10:\", round(math.log(x),3))\n",
    "#Square root of diffusivity\n",
    "D = 1.6e-5\n",
    "print(\"Square root of D:\", math.sqrt(D))"
   ]
  },
  {
   "cell_type": "code",
   "execution_count": null,
   "id": "b2e6a495",
   "metadata": {},
   "outputs": [],
   "source": [
    "# Mini Project 2: "
   ]
  }
 ],
 "metadata": {
  "kernelspec": {
   "display_name": ".venv",
   "language": "python",
   "name": "python3"
  },
  "language_info": {
   "codemirror_mode": {
    "name": "ipython",
    "version": 3
   },
   "file_extension": ".py",
   "mimetype": "text/x-python",
   "name": "python",
   "nbconvert_exporter": "python",
   "pygments_lexer": "ipython3",
   "version": "3.11.9"
  }
 },
 "nbformat": 4,
 "nbformat_minor": 5
}
